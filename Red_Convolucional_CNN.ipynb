{
  "cells": [
    {
      "cell_type": "code",
      "execution_count": null,
      "metadata": {
        "colab": {
          "base_uri": "https://localhost:8080/"
        },
        "id": "mbDbK38QiCJN",
        "outputId": "feab6f4a-b105-4781-ae3f-dbb62efebf1f"
      },
      "outputs": [
        {
          "output_type": "stream",
          "name": "stdout",
          "text": [
            "billete\n",
            "knife\n",
            "monedero\n",
            "pistol\n",
            "smartphone\n",
            "tarjeta\n"
          ]
        }
      ],
      "source": [
        "import os\n",
        "\n",
        "directorio_principal = '/content/drive/My Drive/Colab_Notebooks/Armas/Sohas_weapon-Classification'\n",
        "\n",
        "# Lista los archivos en el directorio\n",
        "archivos = os.listdir(directorio_principal)\n",
        "\n",
        "# Imprime los nombres de los archivos\n",
        "for archivo in archivos:\n",
        "    print(archivo)\n"
      ]
    },
    {
      "cell_type": "code",
      "execution_count": null,
      "metadata": {
        "colab": {
          "base_uri": "https://localhost:8080/"
        },
        "id": "Yid3LKWbj2iy",
        "outputId": "1a52417b-6b35-4456-b248-30cc5545b035"
      },
      "outputs": [
        {
          "output_type": "stream",
          "name": "stdout",
          "text": [
            "Forma de los datos: (9544, 28, 28, 1)\n",
            "Forma de las etiquetas: (9544,)\n",
            "Forma de los datos: (9544, 28, 28, 1)\n",
            "Forma de las etiquetas: (9544,)\n"
          ]
        }
      ],
      "source": [
        "import os\n",
        "import tensorflow as tf\n",
        "from tensorflow.keras.preprocessing.image import load_img, img_to_array\n",
        "import numpy as np\n",
        "\n",
        "# Ruta al directorio que contiene las subcarpetas (clases)\n",
        "directorio_principal = '/content/drive/My Drive/Colab_Notebooks/Armas/Sohas_weapon-Classification'\n",
        "\n",
        "# Cambiar al directorio principal\n",
        "os.chdir(directorio_principal)\n",
        "\n",
        "# Lista para almacenar las imágenes y las etiquetas\n",
        "imagenes = []\n",
        "etiquetas = []\n",
        "\n",
        "# Lista de nombres de las etiquetas\n",
        "nombres_etiquetas = os.listdir(directorio_principal)\n",
        "\n",
        "# Recorrer las subcarpetas (clases)\n",
        "for etiqueta, nombre_etiqueta in enumerate(nombres_etiquetas):\n",
        "    carpeta_etiqueta = os.path.join(directorio_principal, nombre_etiqueta)\n",
        "\n",
        "    # Obtener la lista de archivos en la subcarpeta\n",
        "    archivos_imagenes = os.listdir(carpeta_etiqueta)\n",
        "\n",
        "    # Recorrer los archivos en la subcarpeta\n",
        "    for archivo in archivos_imagenes:\n",
        "        # Comprobar si el archivo es una imagen (ajustar según el formato de tus imágenes)\n",
        "        if archivo.endswith(('.jpg', '.jpeg', '.png')):\n",
        "            # Construir la ruta completa de la imagen\n",
        "            ruta_imagen = os.path.join(carpeta_etiqueta, archivo)\n",
        "\n",
        "            # Cargar la imagen y redimensionar usando TensorFlow\n",
        "            imagen = tf.keras.preprocessing.image.load_img(ruta_imagen, color_mode='grayscale', target_size=(28, 28))\n",
        "            imagen_array = tf.keras.preprocessing.image.img_to_array(imagen)\n",
        "\n",
        "            # Añadir la imagen y la etiqueta a las listas\n",
        "            imagenes.append(imagen_array)\n",
        "            etiquetas.append(etiqueta)\n",
        "\n",
        "# Convertir las listas a numpy arrays\n",
        "datos_np = np.array(imagenes)\n",
        "etiquetas_np = np.array(etiquetas)\n",
        "\n",
        "# Imprimir las formas de los arrays\n",
        "print(\"Forma de los datos:\", datos_np.shape)\n",
        "print(\"Forma de las etiquetas:\", etiquetas_np.shape)\n",
        "\n",
        "# Convertir las etiquetas a un tensor de forma (batch_size,)\n",
        "etiquetas_np = etiquetas_np.reshape(-1)\n",
        "\n",
        "# Imprimir las formas actualizadas\n",
        "print(\"Forma de los datos:\", datos_np.shape)\n",
        "print(\"Forma de las etiquetas:\", etiquetas_np.shape)"
      ]
    },
    {
      "cell_type": "code",
      "execution_count": null,
      "metadata": {
        "colab": {
          "base_uri": "https://localhost:8080/"
        },
        "id": "BwYUTi0plLae",
        "outputId": "fa0af5a3-4784-432f-b7a4-4d487fe10fd5"
      },
      "outputs": [
        {
          "output_type": "stream",
          "name": "stdout",
          "text": [
            "Found 7638 images belonging to 6 classes.\n",
            "Found 1906 images belonging to 6 classes.\n"
          ]
        }
      ],
      "source": [
        "from tensorflow.keras.preprocessing.image import ImageDataGenerator\n",
        "import os\n",
        "\n",
        "# Definir algunos parámetros importantes\n",
        "width_shape = 28  # Ajustado al tamaño de las imágenes de entrada\n",
        "height_shape = 28  # Ajustado al tamaño de las imágenes de entrada\n",
        "num_classes = 6  # Número de clases que has proporcionado\n",
        "epochs = 50\n",
        "batch_size = 32\n",
        "class_names = ['billete', 'knife', 'monedero', 'pistol', 'smartphone', 'tarjeta']\n",
        "\n",
        "# Ruta al directorio que contiene las subcarpetas (clases)\n",
        "directorio_principal = '/content/drive/My Drive/Colab_Notebooks/Armas/Sohas_weapon-Classification'\n",
        "\n",
        "# Configurar el generador de datos de entrenamiento\n",
        "train_datagen = ImageDataGenerator(\n",
        "    rescale=1./255,\n",
        "    validation_split=0.2,  # Proporción para datos de validación\n",
        "    rotation_range=15,  # Rango de rotación aleatoria\n",
        "    width_shift_range=0.1,  # Rango de cambio horizontal aleatorio\n",
        "    height_shift_range=0.1,  # Rango de cambio vertical aleatorio\n",
        "    shear_range=0.1,  # Rango de deformación\n",
        "    zoom_range=0.1,  # Rango de zoom aleatorio\n",
        "    horizontal_flip=True,  # Volteo horizontal aleatorio\n",
        "    fill_mode='nearest'\n",
        ")\n",
        "\n",
        "# Configurar el generador de datos de validación\n",
        "val_datagen = ImageDataGenerator(rescale=1./255, validation_split=0.2)\n",
        "\n",
        "# Generador de datos de entrenamiento\n",
        "train_generator = train_datagen.flow_from_directory(\n",
        "    directorio_principal,\n",
        "    target_size=(width_shape, height_shape),\n",
        "    batch_size=batch_size,\n",
        "    color_mode='grayscale',\n",
        "    class_mode='categorical',\n",
        "    classes=class_names,\n",
        "    subset='training'  # Indicar que estos son datos de entrenamiento\n",
        ")\n",
        "\n",
        "# Generador de datos de validación\n",
        "val_generator = val_datagen.flow_from_directory(\n",
        "    directorio_principal,\n",
        "    target_size=(width_shape, height_shape),\n",
        "    batch_size=batch_size,\n",
        "    color_mode='grayscale',\n",
        "    class_mode='categorical',\n",
        "    classes=class_names,\n",
        "    subset='validation'  # Indicar que estos son datos de validación\n",
        ")"
      ]
    },
    {
      "cell_type": "code",
      "execution_count": null,
      "metadata": {
        "colab": {
          "base_uri": "https://localhost:8080/"
        },
        "id": "ZHZMG-7GmA6S",
        "outputId": "afc98dc8-206b-45ca-ba4c-38502e4e72c5"
      },
      "outputs": [
        {
          "output_type": "stream",
          "name": "stdout",
          "text": [
            "Model: \"sequential\"\n",
            "_________________________________________________________________\n",
            " Layer (type)                Output Shape              Param #   \n",
            "=================================================================\n",
            " conv2d (Conv2D)             (None, 28, 28, 32)        320       \n",
            "                                                                 \n",
            " batch_normalization (Batch  (None, 28, 28, 32)        128       \n",
            " Normalization)                                                  \n",
            "                                                                 \n",
            " activation (Activation)     (None, 28, 28, 32)        0         \n",
            "                                                                 \n",
            " max_pooling2d (MaxPooling2  (None, 14, 14, 32)        0         \n",
            " D)                                                              \n",
            "                                                                 \n",
            " dropout (Dropout)           (None, 14, 14, 32)        0         \n",
            "                                                                 \n",
            " conv2d_1 (Conv2D)           (None, 14, 14, 64)        51264     \n",
            "                                                                 \n",
            " batch_normalization_1 (Bat  (None, 14, 14, 64)        256       \n",
            " chNormalization)                                                \n",
            "                                                                 \n",
            " activation_1 (Activation)   (None, 14, 14, 64)        0         \n",
            "                                                                 \n",
            " max_pooling2d_1 (MaxPoolin  (None, 7, 7, 64)          0         \n",
            " g2D)                                                            \n",
            "                                                                 \n",
            " dropout_1 (Dropout)         (None, 7, 7, 64)          0         \n",
            "                                                                 \n",
            " conv2d_2 (Conv2D)           (None, 7, 7, 128)         73856     \n",
            "                                                                 \n",
            " batch_normalization_2 (Bat  (None, 7, 7, 128)         512       \n",
            " chNormalization)                                                \n",
            "                                                                 \n",
            " activation_2 (Activation)   (None, 7, 7, 128)         0         \n",
            "                                                                 \n",
            " max_pooling2d_2 (MaxPoolin  (None, 3, 3, 128)         0         \n",
            " g2D)                                                            \n",
            "                                                                 \n",
            " dropout_2 (Dropout)         (None, 3, 3, 128)         0         \n",
            "                                                                 \n",
            " flatten (Flatten)           (None, 1152)              0         \n",
            "                                                                 \n",
            " dense (Dense)               (None, 128)               147584    \n",
            "                                                                 \n",
            " batch_normalization_3 (Bat  (None, 128)               512       \n",
            " chNormalization)                                                \n",
            "                                                                 \n",
            " activation_3 (Activation)   (None, 128)               0         \n",
            "                                                                 \n",
            " dropout_3 (Dropout)         (None, 128)               0         \n",
            "                                                                 \n",
            " dense_1 (Dense)             (None, 256)               33024     \n",
            "                                                                 \n",
            " batch_normalization_4 (Bat  (None, 256)               1024      \n",
            " chNormalization)                                                \n",
            "                                                                 \n",
            " activation_4 (Activation)   (None, 256)               0         \n",
            "                                                                 \n",
            " dropout_4 (Dropout)         (None, 256)               0         \n",
            "                                                                 \n",
            " dense_2 (Dense)             (None, 6)                 1542      \n",
            "                                                                 \n",
            "=================================================================\n",
            "Total params: 310022 (1.18 MB)\n",
            "Trainable params: 308806 (1.18 MB)\n",
            "Non-trainable params: 1216 (4.75 KB)\n",
            "_________________________________________________________________\n",
            "Epoch 1/50\n",
            "239/239 [==============================] - 88s 358ms/step - loss: 1.6058 - accuracy: 0.3784 - val_loss: 2.0114 - val_accuracy: 0.0824\n",
            "Epoch 2/50\n",
            "239/239 [==============================] - 82s 340ms/step - loss: 1.3590 - accuracy: 0.4760 - val_loss: 1.6423 - val_accuracy: 0.3153\n",
            "Epoch 3/50\n",
            "239/239 [==============================] - 84s 351ms/step - loss: 1.2876 - accuracy: 0.5072 - val_loss: 1.1152 - val_accuracy: 0.5960\n",
            "Epoch 4/50\n",
            "239/239 [==============================] - 82s 345ms/step - loss: 1.2224 - accuracy: 0.5297 - val_loss: 1.0389 - val_accuracy: 0.6417\n",
            "Epoch 5/50\n",
            "239/239 [==============================] - 84s 350ms/step - loss: 1.1970 - accuracy: 0.5466 - val_loss: 1.0146 - val_accuracy: 0.6427\n",
            "Epoch 6/50\n",
            "239/239 [==============================] - 73s 306ms/step - loss: 1.1652 - accuracy: 0.5577 - val_loss: 0.9924 - val_accuracy: 0.6558\n",
            "Epoch 7/50\n",
            "239/239 [==============================] - 83s 347ms/step - loss: 1.1366 - accuracy: 0.5795 - val_loss: 0.9788 - val_accuracy: 0.6501\n",
            "Epoch 8/50\n",
            "239/239 [==============================] - 71s 297ms/step - loss: 1.1028 - accuracy: 0.5861 - val_loss: 0.9766 - val_accuracy: 0.6537\n",
            "Epoch 9/50\n",
            "239/239 [==============================] - 73s 305ms/step - loss: 1.0905 - accuracy: 0.5968 - val_loss: 0.9105 - val_accuracy: 0.6784\n",
            "Epoch 10/50\n",
            "239/239 [==============================] - 83s 348ms/step - loss: 1.0618 - accuracy: 0.6047 - val_loss: 0.9636 - val_accuracy: 0.6621\n",
            "Epoch 11/50\n",
            "239/239 [==============================] - 71s 297ms/step - loss: 1.0497 - accuracy: 0.6098 - val_loss: 0.8823 - val_accuracy: 0.6878\n",
            "Epoch 12/50\n",
            "239/239 [==============================] - 82s 344ms/step - loss: 1.0403 - accuracy: 0.6104 - val_loss: 0.9235 - val_accuracy: 0.6742\n",
            "Epoch 13/50\n",
            "239/239 [==============================] - 77s 322ms/step - loss: 1.0411 - accuracy: 0.6159 - val_loss: 0.9288 - val_accuracy: 0.6737\n",
            "Epoch 14/50\n",
            "239/239 [==============================] - 83s 349ms/step - loss: 1.0210 - accuracy: 0.6203 - val_loss: 0.9441 - val_accuracy: 0.6668\n",
            "Epoch 15/50\n",
            "239/239 [==============================] - 75s 313ms/step - loss: 0.9970 - accuracy: 0.6313 - val_loss: 0.8665 - val_accuracy: 0.6999\n",
            "Epoch 16/50\n",
            "239/239 [==============================] - 83s 347ms/step - loss: 0.9885 - accuracy: 0.6349 - val_loss: 0.9075 - val_accuracy: 0.6742\n",
            "Epoch 17/50\n",
            "239/239 [==============================] - 74s 310ms/step - loss: 0.9757 - accuracy: 0.6476 - val_loss: 0.9441 - val_accuracy: 0.6558\n",
            "Epoch 18/50\n",
            "239/239 [==============================] - 74s 310ms/step - loss: 0.9689 - accuracy: 0.6400 - val_loss: 0.9106 - val_accuracy: 0.6726\n",
            "Epoch 19/50\n",
            "239/239 [==============================] - 83s 345ms/step - loss: 0.9573 - accuracy: 0.6513 - val_loss: 0.8631 - val_accuracy: 0.6920\n",
            "Epoch 20/50\n",
            "239/239 [==============================] - 87s 364ms/step - loss: 0.9392 - accuracy: 0.6503 - val_loss: 0.8792 - val_accuracy: 0.6920\n",
            "Epoch 21/50\n",
            "239/239 [==============================] - 76s 319ms/step - loss: 0.9373 - accuracy: 0.6572 - val_loss: 0.8488 - val_accuracy: 0.7009\n",
            "Epoch 22/50\n",
            "239/239 [==============================] - 83s 349ms/step - loss: 0.9289 - accuracy: 0.6592 - val_loss: 0.7964 - val_accuracy: 0.7172\n",
            "Epoch 23/50\n",
            "239/239 [==============================] - 83s 349ms/step - loss: 0.9201 - accuracy: 0.6633 - val_loss: 0.8159 - val_accuracy: 0.7130\n",
            "Epoch 24/50\n",
            "239/239 [==============================] - 72s 300ms/step - loss: 0.9074 - accuracy: 0.6638 - val_loss: 0.7970 - val_accuracy: 0.7198\n",
            "Epoch 25/50\n",
            "239/239 [==============================] - 82s 345ms/step - loss: 0.9195 - accuracy: 0.6640 - val_loss: 0.8463 - val_accuracy: 0.7046\n",
            "Epoch 26/50\n",
            "239/239 [==============================] - 83s 346ms/step - loss: 0.8980 - accuracy: 0.6727 - val_loss: 0.8278 - val_accuracy: 0.7088\n",
            "Epoch 27/50\n",
            "239/239 [==============================] - 81s 340ms/step - loss: 0.8897 - accuracy: 0.6748 - val_loss: 0.8653 - val_accuracy: 0.6957\n",
            "Epoch 28/50\n",
            "239/239 [==============================] - 81s 339ms/step - loss: 0.8804 - accuracy: 0.6735 - val_loss: 0.7799 - val_accuracy: 0.7282\n",
            "Epoch 29/50\n",
            "239/239 [==============================] - 71s 298ms/step - loss: 0.8818 - accuracy: 0.6778 - val_loss: 0.8468 - val_accuracy: 0.7030\n",
            "Epoch 30/50\n",
            "239/239 [==============================] - 83s 349ms/step - loss: 0.8830 - accuracy: 0.6781 - val_loss: 0.8247 - val_accuracy: 0.7198\n",
            "Epoch 31/50\n",
            "239/239 [==============================] - 83s 347ms/step - loss: 0.8690 - accuracy: 0.6767 - val_loss: 0.7994 - val_accuracy: 0.7251\n",
            "Epoch 32/50\n",
            "239/239 [==============================] - 83s 347ms/step - loss: 0.8566 - accuracy: 0.6893 - val_loss: 0.7945 - val_accuracy: 0.7288\n",
            "Epoch 33/50\n",
            "239/239 [==============================] - 84s 351ms/step - loss: 0.8576 - accuracy: 0.6919 - val_loss: 0.7371 - val_accuracy: 0.7492\n",
            "Epoch 34/50\n",
            "239/239 [==============================] - 74s 309ms/step - loss: 0.8437 - accuracy: 0.6896 - val_loss: 0.7564 - val_accuracy: 0.7476\n",
            "Epoch 35/50\n",
            "239/239 [==============================] - 73s 307ms/step - loss: 0.8376 - accuracy: 0.6957 - val_loss: 0.7622 - val_accuracy: 0.7392\n",
            "Epoch 36/50\n",
            "239/239 [==============================] - 83s 346ms/step - loss: 0.8274 - accuracy: 0.6973 - val_loss: 0.7443 - val_accuracy: 0.7529\n",
            "Epoch 37/50\n",
            "239/239 [==============================] - 72s 302ms/step - loss: 0.8287 - accuracy: 0.6960 - val_loss: 0.7285 - val_accuracy: 0.7450\n",
            "Epoch 38/50\n",
            "239/239 [==============================] - 75s 311ms/step - loss: 0.8263 - accuracy: 0.7032 - val_loss: 0.6821 - val_accuracy: 0.7681\n",
            "Epoch 39/50\n",
            "239/239 [==============================] - 82s 345ms/step - loss: 0.8211 - accuracy: 0.7003 - val_loss: 0.7051 - val_accuracy: 0.7602\n",
            "Epoch 40/50\n",
            "239/239 [==============================] - 81s 339ms/step - loss: 0.8138 - accuracy: 0.7056 - val_loss: 0.7306 - val_accuracy: 0.7539\n",
            "Epoch 41/50\n",
            "239/239 [==============================] - 82s 342ms/step - loss: 0.8139 - accuracy: 0.7062 - val_loss: 0.7366 - val_accuracy: 0.7476\n",
            "Epoch 42/50\n",
            "239/239 [==============================] - 73s 304ms/step - loss: 0.8095 - accuracy: 0.7069 - val_loss: 0.7410 - val_accuracy: 0.7471\n",
            "Epoch 43/50\n",
            "239/239 [==============================] - 84s 352ms/step - loss: 0.8144 - accuracy: 0.7054 - val_loss: 0.7118 - val_accuracy: 0.7524\n",
            "Epoch 44/50\n",
            "239/239 [==============================] - 84s 351ms/step - loss: 0.8023 - accuracy: 0.7037 - val_loss: 0.7656 - val_accuracy: 0.7356\n",
            "Epoch 45/50\n",
            "239/239 [==============================] - 84s 352ms/step - loss: 0.7976 - accuracy: 0.7096 - val_loss: 0.8094 - val_accuracy: 0.7141\n",
            "Epoch 46/50\n",
            "239/239 [==============================] - 84s 353ms/step - loss: 0.8048 - accuracy: 0.7135 - val_loss: 0.7328 - val_accuracy: 0.7497\n",
            "Epoch 47/50\n",
            "239/239 [==============================] - 84s 350ms/step - loss: 0.7840 - accuracy: 0.7145 - val_loss: 0.6954 - val_accuracy: 0.7587\n",
            "Epoch 48/50\n",
            "239/239 [==============================] - 83s 349ms/step - loss: 0.7861 - accuracy: 0.7158 - val_loss: 0.6705 - val_accuracy: 0.7718\n",
            "Epoch 49/50\n",
            "239/239 [==============================] - 74s 310ms/step - loss: 0.7667 - accuracy: 0.7210 - val_loss: 0.7238 - val_accuracy: 0.7545\n",
            "Epoch 50/50\n",
            "239/239 [==============================] - 84s 350ms/step - loss: 0.7912 - accuracy: 0.7082 - val_loss: 0.6788 - val_accuracy: 0.7660\n"
          ]
        }
      ],
      "source": [
        "from tensorflow.keras.models import Sequential\n",
        "from tensorflow.keras.layers import Conv2D, MaxPool2D, Dense, Flatten, Dropout, BatchNormalization, Activation\n",
        "from tensorflow.keras.optimizers import Adam\n",
        "\n",
        "# Modelo de red neuronal convolucional\n",
        "model = Sequential()\n",
        "\n",
        "## Extracción de Características\n",
        "model.add(Conv2D(32, (3, 3), padding='same', input_shape=(width_shape, height_shape, 1)))\n",
        "model.add(BatchNormalization())\n",
        "model.add(Activation('relu'))\n",
        "model.add(MaxPool2D(pool_size=(2, 2)))\n",
        "model.add(Dropout(0.2))\n",
        "\n",
        "model.add(Conv2D(64, (5, 5), padding='same'))\n",
        "model.add(BatchNormalization())\n",
        "model.add(Activation('relu'))\n",
        "model.add(MaxPool2D(pool_size=(2, 2)))\n",
        "model.add(Dropout(0.2))\n",
        "\n",
        "model.add(Conv2D(128, (3, 3), padding='same'))\n",
        "model.add(BatchNormalization())\n",
        "model.add(Activation('relu'))\n",
        "model.add(MaxPool2D(pool_size=(2, 2)))\n",
        "model.add(Dropout(0.2))\n",
        "\n",
        "## Clasificación\n",
        "model.add(Flatten())\n",
        "model.add(Dense(128))\n",
        "model.add(BatchNormalization())\n",
        "model.add(Activation('relu'))\n",
        "model.add(Dropout(0.2))\n",
        "\n",
        "model.add(Dense(256))\n",
        "model.add(BatchNormalization())\n",
        "model.add(Activation('relu'))\n",
        "model.add(Dropout(0.2))\n",
        "\n",
        "model.add(Dense(num_classes, activation='softmax'))\n",
        "\n",
        "# Resumen del modelo CNN\n",
        "model.summary()\n",
        "\n",
        "# Compilar el modelo\n",
        "opt = Adam(learning_rate=1e-4)\n",
        "model.compile(loss='categorical_crossentropy', optimizer=opt, metrics=['accuracy'])\n",
        "\n",
        "# Entrenar el modelo utilizando los generadores de datos\n",
        "history = model.fit(train_generator, epochs=epochs, validation_data=val_generator)\n"
      ]
    },
    {
      "cell_type": "code",
      "source": [
        "# Resumen de pérdida y precisión\n",
        "print(\"\\nResumen del entrenamiento:\")\n",
        "print(\"Pérdida final:\", history.history['loss'][-1])\n",
        "print(\"Precisión final:\", history.history['accuracy'][-1])\n",
        "print(\"\\nResumen de la validación:\")\n",
        "print(\"Pérdida final:\", history.history['val_loss'][-1])\n",
        "print(\"Precisión final:\", history.history['val_accuracy'][-1])"
      ],
      "metadata": {
        "colab": {
          "base_uri": "https://localhost:8080/"
        },
        "id": "WcXMPEfPNlKm",
        "outputId": "0e1db652-b368-4cc0-fa9d-08000e68bb72"
      },
      "execution_count": null,
      "outputs": [
        {
          "output_type": "stream",
          "name": "stdout",
          "text": [
            "\n",
            "Resumen del entrenamiento:\n",
            "Pérdida final: 0.791172981262207\n",
            "Precisión final: 0.70816969871521\n",
            "\n",
            "Resumen de la validación:\n",
            "Pérdida final: 0.6788288354873657\n",
            "Precisión final: 0.7660021185874939\n"
          ]
        }
      ]
    },
    {
      "cell_type": "code",
      "source": [
        "import matplotlib.pyplot as plt\n",
        "\n",
        "#Ver la funcion de perdida\n",
        "plt.xlabel(\"# Epoca\")\n",
        "plt.ylabel(\"Magnitud de pérdida\")\n",
        "plt.plot(history.history[\"loss\"])"
      ],
      "metadata": {
        "colab": {
          "base_uri": "https://localhost:8080/",
          "height": 467
        },
        "id": "kloVTkQXNz6E",
        "outputId": "230a034a-2022-4afd-9bbc-798744f4f793"
      },
      "execution_count": null,
      "outputs": [
        {
          "output_type": "execute_result",
          "data": {
            "text/plain": [
              "[<matplotlib.lines.Line2D at 0x7d37d19d5510>]"
            ]
          },
          "metadata": {},
          "execution_count": 17
        },
        {
          "output_type": "display_data",
          "data": {
            "text/plain": [
              "<Figure size 640x480 with 1 Axes>"
            ],
            "image/png": "[encoded data removed]"
          },
          "metadata": {}
        }
      ]
    },
    {
      "cell_type": "code",
      "source": [
        "from sklearn.metrics import confusion_matrix, classification_report\n",
        "import seaborn as sns\n",
        "import matplotlib.pyplot as plt\n",
        "import numpy as np\n",
        "\n",
        "# Redimensionar las imágenes para que coincidan con el modelo CNN\n",
        "datos_np_resized = np.array([tf.image.resize(im, (width_shape, height_shape)).numpy() for im in datos_np])\n",
        "\n",
        "# Normalizar los valores de píxeles al rango [0, 1]\n",
        "datos_np_resized = datos_np_resized / 255.0\n",
        "\n",
        "# Hacer predicciones en los datos de validación\n",
        "predicciones = model.predict(datos_np_resized)\n",
        "etiquetas_predichas = np.argmax(predicciones, axis=1)\n",
        "\n",
        "# Imprimir informe de clasificación\n",
        "print(\"Informe de clasificación:\")\n",
        "print(classification_report(etiquetas_np, etiquetas_predichas))\n",
        "\n",
        "# Calcular y visualizar la matriz de confusión\n",
        "matriz_confusion = confusion_matrix(etiquetas_np, etiquetas_predichas)\n",
        "sns.heatmap(matriz_confusion, annot=True, fmt='d', cmap='Blues', xticklabels=class_names, yticklabels=class_names)\n",
        "plt.xlabel('Etiquetas Predichas')\n",
        "plt.ylabel('Etiquetas Reales')\n",
        "plt.title('Matriz de Confusión')\n",
        "plt.show()"
      ],
      "metadata": {
        "colab": {
          "base_uri": "https://localhost:8080/",
          "height": 749
        },
        "id": "_U98dZHKQCWB",
        "outputId": "4fcc4915-4a84-46b2-ad69-77364ae8ea3c"
      },
      "execution_count": null,
      "outputs": [
        {
          "output_type": "stream",
          "name": "stdout",
          "text": [
            "299/299 [==============================] - 10s 30ms/step\n",
            "Informe de clasificación:\n",
            "              precision    recall  f1-score   support\n",
            "\n",
            "           0       0.56      0.79      0.66       777\n",
            "           1       0.93      0.71      0.80      2349\n",
            "           2       0.52      0.60      0.56       813\n",
            "           3       0.81      0.91      0.85      3975\n",
            "           4       0.62      0.59      0.60      1184\n",
            "           5       0.48      0.13      0.20       446\n",
            "\n",
            "    accuracy                           0.75      9544\n",
            "   macro avg       0.65      0.62      0.61      9544\n",
            "weighted avg       0.75      0.75      0.74      9544\n",
            "\n"
          ]
        },
        {
          "output_type": "display_data",
          "data": {
            "text/plain": [
              "<Figure size 640x480 with 2 Axes>"
            ],
            "image/png": "[encoded data removed]"
          },
          "metadata": {}
        }
      ]
    }
  ],
  "metadata": {
    "colab": {
      "provenance": []
    },
    "kernelspec": {
      "display_name": "Python 3",
      "name": "python3"
    },
    "language_info": {
      "name": "python"
    }
  },
  "nbformat": 4,
  "nbformat_minor": 0
}