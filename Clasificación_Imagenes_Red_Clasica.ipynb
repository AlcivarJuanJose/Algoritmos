{
  "nbformat": 4,
  "nbformat_minor": 0,
  "metadata": {
    "colab": {
      "provenance": []
    },
    "kernelspec": {
      "name": "python3",
      "display_name": "Python 3"
    },
    "language_info": {
      "name": "python"
    }
  },
  "cells": [
    {
      "cell_type": "code",
      "source": [
        "import zipfile\n",
        "import os\n",
        "\n",
        "# Ruta al archivo zip\n",
        "ruta_zip = '/content/drive/My Drive/Colab_Notebooks/Sohas_weapon-Classification.zip'  # Asegúrate de cambiar el nombre del archivo según corresponda\n",
        "\n",
        "# Ruta donde deseas extraer los archivos\n",
        "directorio_destino = '/content/drive/My Drive/Colab_Notebooks/Armas'  # Ajusta según tus necesidades\n",
        "\n",
        "# Extraer el contenido del archivo zip\n",
        "with zipfile.ZipFile(ruta_zip, 'r') as zip_ref:\n",
        "    zip_ref.extractall(directorio_destino)\n",
        "\n",
        "# Listar los archivos extraídos\n",
        "archivos_extraidos = os.listdir(directorio_destino)\n",
        "print(\"Archivos extraídos:\", archivos_extraidos)"
      ],
      "metadata": {
        "colab": {
          "base_uri": "https://localhost:8080/"
        },
        "id": "9LuIo5OtivBh",
        "outputId": "f1e008ed-4f49-4437-8466-2f00297460a7"
      },
      "execution_count": null,
      "outputs": [
        {
          "output_type": "stream",
          "name": "stdout",
          "text": [
            "Archivos extraídos: ['Sohas_weapon-Classification']\n"
          ]
        }
      ]
    },
    {
      "cell_type": "markdown",
      "source": [
        "# Nueva sección"
      ],
      "metadata": {
        "id": "HFGqZz6AkMdY"
      }
    },
    {
      "cell_type": "code",
      "execution_count": null,
      "metadata": {
        "id": "dEWPtuU5hfIi",
        "colab": {
          "base_uri": "https://localhost:8080/"
        },
        "outputId": "d10a95ef-59af-4fcb-af05-c29ec6bb89eb"
      },
      "outputs": [
        {
          "output_type": "stream",
          "name": "stdout",
          "text": [
            "Forma de los datos: (9544, 28, 28, 1)\n",
            "Forma de las etiquetas: (9544,)\n",
            "Forma de los datos: (9544, 28, 28, 1)\n",
            "Forma de las etiquetas: (9544,)\n"
          ]
        }
      ],
      "source": [
        "import os\n",
        "import tensorflow as tf\n",
        "from tensorflow.keras.preprocessing.image import load_img, img_to_array\n",
        "import numpy as np\n",
        "\n",
        "# Ruta al directorio que contiene las subcarpetas (clases) / DATASET\n",
        "directorio_principal = '/content/drive/My Drive/Colab_Notebooks/Armas/Sohas_weapon-Classification'\n",
        "\n",
        "# Cambiar al directorio principal\n",
        "os.chdir(directorio_principal)\n",
        "\n",
        "# Lista para almacenar las imágenes y las etiquetas\n",
        "imagenes = []\n",
        "etiquetas = []\n",
        "\n",
        "# Lista de nombres de las etiquetas\n",
        "nombres_etiquetas = os.listdir(directorio_principal)\n",
        "\n",
        "# Recorrer las subcarpetas (clases)\n",
        "for etiqueta, nombre_etiqueta in enumerate(nombres_etiquetas):\n",
        "    carpeta_etiqueta = os.path.join(directorio_principal, nombre_etiqueta)\n",
        "\n",
        "    # Obtener la lista de archivos en la subcarpeta\n",
        "    archivos_imagenes = os.listdir(carpeta_etiqueta)\n",
        "\n",
        "    # Recorrer los archivos en la subcarpeta\n",
        "    for archivo in archivos_imagenes:\n",
        "        # Comprobar si el archivo es una imagen (ajustar según el formato de tus imágenes)\n",
        "        if archivo.endswith(('.jpg', '.jpeg', '.png')):\n",
        "            # Construir la ruta completa de la imagen\n",
        "            ruta_imagen = os.path.join(carpeta_etiqueta, archivo)\n",
        "\n",
        "            # Cargar la imagen y redimensionar usando TensorFlow\n",
        "            imagen = tf.keras.preprocessing.image.load_img(ruta_imagen, color_mode='grayscale', target_size=(28, 28))\n",
        "            imagen_array = tf.keras.preprocessing.image.img_to_array(imagen)\n",
        "\n",
        "            # Añadir la imagen y la etiqueta a las listas\n",
        "            imagenes.append(imagen_array)\n",
        "            etiquetas.append(etiqueta)\n",
        "\n",
        "# Convertir las listas a numpy arrays\n",
        "datos_np = np.array(imagenes)\n",
        "etiquetas_np = np.array(etiquetas)\n",
        "\n",
        "# Imprimir las formas de los arrays\n",
        "print(\"Forma de los datos:\", datos_np.shape)\n",
        "print(\"Forma de las etiquetas:\", etiquetas_np.shape)\n",
        "\n",
        "# Convertir las etiquetas a un tensor de forma (batch_size,)\n",
        "etiquetas_np = etiquetas_np.reshape(-1)\n",
        "\n",
        "# Imprimir las formas actualizadas\n",
        "print(\"Forma de los datos:\", datos_np.shape)\n",
        "print(\"Forma de las etiquetas:\", etiquetas_np.shape)\n"
      ]
    },
    {
      "cell_type": "code",
      "source": [
        "print(\"Nombres de las etiquetas:\")\n",
        "for etiqueta in nombres_etiquetas:\n",
        "    print(etiqueta)"
      ],
      "metadata": {
        "id": "4i-oEz8poA3K",
        "colab": {
          "base_uri": "https://localhost:8080/"
        },
        "outputId": "a96df9f5-03a4-42ea-89a6-d250e1273bbe"
      },
      "execution_count": null,
      "outputs": [
        {
          "output_type": "stream",
          "name": "stdout",
          "text": [
            "Nombres de las etiquetas:\n",
            "billete\n",
            "knife\n",
            "monedero\n",
            "pistol\n",
            "smartphone\n",
            "tarjeta\n"
          ]
        }
      ]
    },
    {
      "cell_type": "code",
      "source": [
        "from sklearn.model_selection import train_test_split\n",
        "\n",
        "# Convertir las listas a numpy arrays\n",
        "datos_np = np.array(imagenes)\n",
        "etiquetas_np = np.array(etiquetas)\n",
        "\n",
        "# Dividir los datos en entrenamiento y prueba (80% entrenamiento, 20% prueba)\n",
        "datos_entrenamiento, datos_pruebas, etiquetas_entrenamiento, etiquetas_pruebas = train_test_split(\n",
        "    datos_np, etiquetas_np, test_size=0.2, random_state=42)\n",
        "\n",
        "# Imprimir las formas de los conjuntos de datos\n",
        "print(\"Forma de datos_entrenamiento:\", datos_entrenamiento.shape)\n",
        "print(\"Forma de etiquetas_entrenamiento:\", etiquetas_entrenamiento.shape)\n",
        "print(\"Forma de datos_pruebas:\", datos_pruebas.shape)\n",
        "print(\"Forma de etiquetas_pruebas:\", etiquetas_pruebas.shape)\n",
        "\n",
        "# Ahora, puedes definir tus variables para usar en el modelo\n",
        "imagenes_entrenamiento = datos_entrenamiento\n",
        "etiquetas_entrenamiento = etiquetas_entrenamiento\n",
        "imagenes_pruebas = datos_pruebas\n",
        "etiquetas_pruebas = etiquetas_pruebas"
      ],
      "metadata": {
        "id": "qoGtY3A5oz3H",
        "colab": {
          "base_uri": "https://localhost:8080/"
        },
        "outputId": "bcdec813-cbde-4c42-9a41-9c89b383e171"
      },
      "execution_count": null,
      "outputs": [
        {
          "output_type": "stream",
          "name": "stdout",
          "text": [
            "Forma de datos_entrenamiento: (7635, 28, 28, 1)\n",
            "Forma de etiquetas_entrenamiento: (7635,)\n",
            "Forma de datos_pruebas: (1909, 28, 28, 1)\n",
            "Forma de etiquetas_pruebas: (1909,)\n"
          ]
        }
      ]
    },
    {
      "cell_type": "code",
      "source": [
        "import numpy as np\n",
        "# Funcion de normalizacion para los datos (Pasar de 0-255 a 0-1)\n",
        "# Hace que la red aprenda mejor y más rápido\n",
        "def normalizar(imagenes, etiquetas):\n",
        "    imagenes = imagenes.astype(np.float32)\n",
        "    imagenes /= 255  # Aquí lo pasa de 0-255 a 0-1\n",
        "    return imagenes, etiquetas\n",
        "\n",
        "# Normalizar los datos de entrenamiento y pruebas con la función que hicimos\n",
        "datos_entrenamiento = normalizar(datos_entrenamiento[0], datos_entrenamiento[1])\n",
        "datos_pruebas = normalizar(datos_pruebas[0], datos_pruebas[1])\n",
        "\n",
        "# Convertir los datos normalizados a conjuntos de datos de TensorFlow\n",
        "datos_entrenamiento_tf = tf.data.Dataset.from_tensor_slices(datos_entrenamiento)\n",
        "datos_pruebas_tf = tf.data.Dataset.from_tensor_slices(datos_pruebas)\n",
        "\n",
        "# Agregar a la caché (usar memoria en lugar de disco, entrenamiento más rápido)\n",
        "datos_entrenamiento_tf = datos_entrenamiento_tf.cache()\n",
        "datos_pruebas_tf = datos_pruebas_tf.cache()"
      ],
      "metadata": {
        "id": "koW9osKQpqHz"
      },
      "execution_count": null,
      "outputs": []
    },
    {
      "cell_type": "code",
      "source": [
        "import matplotlib.pyplot as plt\n",
        "\n",
        "# Mostrar una imagen de los datos de prueba\n",
        "for imagen, etiqueta in datos_pruebas_tf.take(1):\n",
        "    break\n",
        "\n",
        "# Convierte la imagen a NumPy\n",
        "imagen_np = imagen.numpy()\n",
        "\n",
        "# Imprimir la forma original de la imagen\n",
        "print(\"Forma original de la imagen:\", imagen_np.shape)\n",
        "\n",
        "# Dibujar\n",
        "plt.figure()\n",
        "plt.imshow(imagen_np, cmap='viridis')\n",
        "plt.colorbar()\n",
        "plt.grid(False)\n",
        "plt.show()\n",
        "\n"
      ],
      "metadata": {
        "id": "AIFowouhqCsZ",
        "colab": {
          "base_uri": "https://localhost:8080/",
          "height": 448
        },
        "outputId": "e184adb1-6149-450c-fec7-f4b3a9d7a4c5"
      },
      "execution_count": null,
      "outputs": [
        {
          "output_type": "stream",
          "name": "stdout",
          "text": [
            "Forma original de la imagen: (28, 1)\n"
          ]
        },
        {
          "output_type": "display_data",
          "data": {
            "text/plain": [
              "<Figure size 640x480 with 2 Axes>"
            ],
            "image/png": "[encoded data removed]"
          },
          "metadata": {}
        }
      ]
    },
    {
      "cell_type": "code",
      "source": [
        "#Crear el modelo\n",
        "modelo = tf.keras.Sequential([\n",
        "  tf.keras.layers.Flatten(input_shape=(28,28,1)), #1 - blanco y negro\n",
        "  tf.keras.layers.Dense(50, activation=tf.nn.relu),\n",
        "  tf.keras.layers.Dense(50, activation=tf.nn.relu),\n",
        "  tf.keras.layers.Dense(6, activation=tf.nn.softmax) #Para redes de clasificacion\n",
        "])"
      ],
      "metadata": {
        "id": "-sU5CnUyrM9K"
      },
      "execution_count": null,
      "outputs": []
    },
    {
      "cell_type": "code",
      "source": [
        "#Compilar el modelo\n",
        "modelo.compile(\n",
        "    optimizer='adam',\n",
        "    loss=tf.keras.losses.SparseCategoricalCrossentropy(),\n",
        "    metrics=['accuracy']\n",
        ")"
      ],
      "metadata": {
        "id": "NmJDlXVbrSf6"
      },
      "execution_count": null,
      "outputs": []
    },
    {
      "cell_type": "code",
      "source": [
        "# Definir el tamaño del lote\n",
        "TAMANO_LOTE = 32\n",
        "\n",
        "# Obtener el total de ejemplos en el conjunto de datos de entrenamiento\n",
        "total_ejemplos_entrenamiento = len(imagenes_entrenamiento)\n",
        "\n",
        "# Convertir la tupla a un conjunto de datos de TensorFlow para entrenamiento\n",
        "datos_entrenamiento = tf.data.Dataset.from_tensor_slices((imagenes_entrenamiento, etiquetas_entrenamiento))\n",
        "\n",
        "# Mezclar y repetir datos de entrenamiento\n",
        "datos_entrenamiento = datos_entrenamiento.repeat().shuffle(total_ejemplos_entrenamiento).batch(TAMANO_LOTE)\n",
        "\n",
        "# Convertir la tupla a un conjunto de datos de TensorFlow para prueba\n",
        "datos_pruebas = tf.data.Dataset.from_tensor_slices((imagenes_pruebas, etiquetas_pruebas))\n",
        "\n",
        "# Agrupar datos de prueba en lotes\n",
        "datos_pruebas = datos_pruebas.batch(TAMANO_LOTE)"
      ],
      "metadata": {
        "id": "wGQLdTivrlpY"
      },
      "execution_count": null,
      "outputs": []
    },
    {
      "cell_type": "code",
      "source": [
        "import math\n",
        "from tensorflow.keras.preprocessing.image import ImageDataGenerator\n",
        "\n",
        "\n",
        "# Calcular el número total de ejemplos de entrenamiento\n",
        "num_ej_entrenamiento = len(imagenes_entrenamiento)\n",
        "\n",
        "# Configurar el generador de datos de validación\n",
        "val_datagen = ImageDataGenerator()\n",
        "val_generator = val_datagen.flow(datos_pruebas, etiquetas_pruebas, batch_size=TAMANO_LOTE)\n",
        "\n",
        "# Entrenar el modelo\n",
        "historial = modelo.fit(\n",
        "    datos_entrenamiento,\n",
        "    etiquetas_entrenamiento,\n",
        "    epochs=50,\n",
        "    steps_per_epoch=math.ceil(num_ej_entrenamiento/TAMANO_LOTE),\n",
        "    validation_data=val_generator  # Agregar esta línea para habilitar la métrica de validación\n",
        ")\n"
      ],
      "metadata": {
        "id": "YLjNN_ootcXX",
        "colab": {
          "base_uri": "https://localhost:8080/"
        },
        "outputId": "d07a8c58-a66d-4f9a-c422-7ffcb6f92c4f"
      },
      "execution_count": null,
      "outputs": [
        {
          "output_type": "stream",
          "name": "stdout",
          "text": [
            "Epoch 1/50\n",
            "239/239 [==============================] - 9s 38ms/step - loss: 0.8762 - accuracy: 0.6896 - val_loss: 0.8498 - val_accuracy: 0.6988\n",
            "Epoch 2/50\n",
            "239/239 [==============================] - 7s 29ms/step - loss: 0.7784 - accuracy: 0.7269 - val_loss: 0.7859 - val_accuracy: 0.7218\n",
            "Epoch 3/50\n",
            "239/239 [==============================] - 5s 22ms/step - loss: 0.7176 - accuracy: 0.7505 - val_loss: 0.7848 - val_accuracy: 0.7192\n",
            "Epoch 4/50\n",
            "239/239 [==============================] - 7s 28ms/step - loss: 0.6541 - accuracy: 0.7707 - val_loss: 0.8328 - val_accuracy: 0.7103\n",
            "Epoch 5/50\n",
            "239/239 [==============================] - 5s 22ms/step - loss: 0.5902 - accuracy: 0.7978 - val_loss: 0.7811 - val_accuracy: 0.7197\n",
            "Epoch 6/50\n",
            "239/239 [==============================] - 6s 25ms/step - loss: 0.5320 - accuracy: 0.8231 - val_loss: 0.7648 - val_accuracy: 0.7276\n",
            "Epoch 7/50\n",
            "239/239 [==============================] - 6s 26ms/step - loss: 0.4767 - accuracy: 0.8384 - val_loss: 0.7549 - val_accuracy: 0.7365\n",
            "Epoch 8/50\n",
            "239/239 [==============================] - 6s 24ms/step - loss: 0.4219 - accuracy: 0.8608 - val_loss: 0.7425 - val_accuracy: 0.7496\n",
            "Epoch 9/50\n",
            "239/239 [==============================] - 7s 30ms/step - loss: 0.3734 - accuracy: 0.8765 - val_loss: 0.7947 - val_accuracy: 0.7365\n",
            "Epoch 10/50\n",
            "239/239 [==============================] - 6s 24ms/step - loss: 0.3268 - accuracy: 0.8935 - val_loss: 0.7809 - val_accuracy: 0.7438\n",
            "Epoch 11/50\n",
            "239/239 [==============================] - 7s 29ms/step - loss: 0.2830 - accuracy: 0.9113 - val_loss: 0.8265 - val_accuracy: 0.7522\n",
            "Epoch 12/50\n",
            "239/239 [==============================] - 5s 21ms/step - loss: 0.2420 - accuracy: 0.9267 - val_loss: 0.8313 - val_accuracy: 0.7470\n",
            "Epoch 13/50\n",
            "239/239 [==============================] - 6s 27ms/step - loss: 0.1982 - accuracy: 0.9417 - val_loss: 0.8645 - val_accuracy: 0.7538\n",
            "Epoch 14/50\n",
            "239/239 [==============================] - 5s 22ms/step - loss: 0.1687 - accuracy: 0.9547 - val_loss: 0.9002 - val_accuracy: 0.7475\n",
            "Epoch 15/50\n",
            "239/239 [==============================] - 8s 32ms/step - loss: 0.1392 - accuracy: 0.9644 - val_loss: 0.9397 - val_accuracy: 0.7548\n",
            "Epoch 16/50\n",
            "239/239 [==============================] - 7s 27ms/step - loss: 0.1105 - accuracy: 0.9751 - val_loss: 0.9664 - val_accuracy: 0.7465\n",
            "Epoch 17/50\n",
            "239/239 [==============================] - 5s 22ms/step - loss: 0.0917 - accuracy: 0.9797 - val_loss: 1.0369 - val_accuracy: 0.7480\n",
            "Epoch 18/50\n",
            "239/239 [==============================] - 6s 27ms/step - loss: 0.0744 - accuracy: 0.9851 - val_loss: 1.0523 - val_accuracy: 0.7564\n",
            "Epoch 19/50\n",
            "239/239 [==============================] - 5s 20ms/step - loss: 0.0569 - accuracy: 0.9907 - val_loss: 1.0915 - val_accuracy: 0.7475\n",
            "Epoch 20/50\n",
            "239/239 [==============================] - 6s 25ms/step - loss: 0.0530 - accuracy: 0.9908 - val_loss: 1.2952 - val_accuracy: 0.7349\n",
            "Epoch 21/50\n",
            "239/239 [==============================] - 5s 19ms/step - loss: 0.0451 - accuracy: 0.9936 - val_loss: 1.1829 - val_accuracy: 0.7533\n",
            "Epoch 22/50\n",
            "239/239 [==============================] - 5s 19ms/step - loss: 0.0290 - accuracy: 0.9980 - val_loss: 1.2285 - val_accuracy: 0.7381\n",
            "Epoch 23/50\n",
            "239/239 [==============================] - 6s 26ms/step - loss: 0.0223 - accuracy: 0.9983 - val_loss: 1.2560 - val_accuracy: 0.7486\n",
            "Epoch 24/50\n",
            "239/239 [==============================] - 5s 19ms/step - loss: 0.0191 - accuracy: 0.9987 - val_loss: 1.2855 - val_accuracy: 0.7475\n",
            "Epoch 25/50\n",
            "239/239 [==============================] - 5s 21ms/step - loss: 0.0242 - accuracy: 0.9967 - val_loss: 1.3224 - val_accuracy: 0.7449\n",
            "Epoch 26/50\n",
            "239/239 [==============================] - 6s 24ms/step - loss: 0.0310 - accuracy: 0.9925 - val_loss: 1.3912 - val_accuracy: 0.7433\n",
            "Epoch 27/50\n",
            "239/239 [==============================] - 5s 19ms/step - loss: 0.0441 - accuracy: 0.9890 - val_loss: 1.4333 - val_accuracy: 0.7360\n",
            "Epoch 28/50\n",
            "239/239 [==============================] - 6s 26ms/step - loss: 0.0308 - accuracy: 0.9937 - val_loss: 1.3837 - val_accuracy: 0.7391\n",
            "Epoch 29/50\n",
            "239/239 [==============================] - 5s 21ms/step - loss: 0.0151 - accuracy: 0.9987 - val_loss: 1.4656 - val_accuracy: 0.7475\n",
            "Epoch 30/50\n",
            "239/239 [==============================] - 6s 27ms/step - loss: 0.0065 - accuracy: 0.9999 - val_loss: 1.4955 - val_accuracy: 0.7507\n",
            "Epoch 31/50\n",
            "239/239 [==============================] - 6s 23ms/step - loss: 0.0041 - accuracy: 1.0000 - val_loss: 1.5187 - val_accuracy: 0.7512\n",
            "Epoch 32/50\n",
            "239/239 [==============================] - 5s 20ms/step - loss: 0.0035 - accuracy: 1.0000 - val_loss: 1.5629 - val_accuracy: 0.7538\n",
            "Epoch 33/50\n",
            "239/239 [==============================] - 6s 26ms/step - loss: 0.0029 - accuracy: 1.0000 - val_loss: 1.5578 - val_accuracy: 0.7496\n",
            "Epoch 34/50\n",
            "239/239 [==============================] - 5s 19ms/step - loss: 0.0025 - accuracy: 1.0000 - val_loss: 1.5961 - val_accuracy: 0.7533\n",
            "Epoch 35/50\n",
            "239/239 [==============================] - 5s 20ms/step - loss: 0.0022 - accuracy: 1.0000 - val_loss: 1.6088 - val_accuracy: 0.7491\n",
            "Epoch 36/50\n",
            "239/239 [==============================] - 6s 26ms/step - loss: 0.0019 - accuracy: 1.0000 - val_loss: 1.6540 - val_accuracy: 0.7512\n",
            "Epoch 37/50\n",
            "239/239 [==============================] - 5s 21ms/step - loss: 0.0017 - accuracy: 1.0000 - val_loss: 1.6677 - val_accuracy: 0.7533\n",
            "Epoch 38/50\n",
            "239/239 [==============================] - 7s 28ms/step - loss: 0.0014 - accuracy: 1.0000 - val_loss: 1.6769 - val_accuracy: 0.7517\n",
            "Epoch 39/50\n",
            "239/239 [==============================] - 5s 22ms/step - loss: 0.0013 - accuracy: 1.0000 - val_loss: 1.7124 - val_accuracy: 0.7507\n",
            "Epoch 40/50\n",
            "239/239 [==============================] - 5s 23ms/step - loss: 0.0011 - accuracy: 1.0000 - val_loss: 1.7181 - val_accuracy: 0.7496\n",
            "Epoch 41/50\n",
            "239/239 [==============================] - 7s 27ms/step - loss: 9.7810e-04 - accuracy: 1.0000 - val_loss: 1.7514 - val_accuracy: 0.7501\n",
            "Epoch 42/50\n",
            "239/239 [==============================] - 5s 22ms/step - loss: 8.5960e-04 - accuracy: 1.0000 - val_loss: 1.7633 - val_accuracy: 0.7501\n",
            "Epoch 43/50\n",
            "239/239 [==============================] - 7s 29ms/step - loss: 7.4859e-04 - accuracy: 1.0000 - val_loss: 1.7891 - val_accuracy: 0.7512\n",
            "Epoch 44/50\n",
            "239/239 [==============================] - 7s 28ms/step - loss: 6.3407e-04 - accuracy: 1.0000 - val_loss: 1.8251 - val_accuracy: 0.7522\n",
            "Epoch 45/50\n",
            "239/239 [==============================] - 7s 29ms/step - loss: 5.7774e-04 - accuracy: 1.0000 - val_loss: 1.8357 - val_accuracy: 0.7543\n",
            "Epoch 46/50\n",
            "239/239 [==============================] - 5s 23ms/step - loss: 4.8965e-04 - accuracy: 1.0000 - val_loss: 1.8733 - val_accuracy: 0.7480\n",
            "Epoch 47/50\n",
            "239/239 [==============================] - 7s 27ms/step - loss: 4.4139e-04 - accuracy: 1.0000 - val_loss: 1.8900 - val_accuracy: 0.7486\n",
            "Epoch 48/50\n",
            "239/239 [==============================] - 5s 21ms/step - loss: 3.7904e-04 - accuracy: 1.0000 - val_loss: 1.9183 - val_accuracy: 0.7575\n",
            "Epoch 49/50\n",
            "239/239 [==============================] - 5s 22ms/step - loss: 3.3835e-04 - accuracy: 1.0000 - val_loss: 1.9602 - val_accuracy: 0.7533\n",
            "Epoch 50/50\n",
            "239/239 [==============================] - 7s 28ms/step - loss: 2.9190e-04 - accuracy: 1.0000 - val_loss: 1.9925 - val_accuracy: 0.7486\n"
          ]
        }
      ]
    },
    {
      "cell_type": "code",
      "source": [
        "#Ver la funcion de perdida\n",
        "plt.xlabel(\"# Epoca\")\n",
        "plt.ylabel(\"Magnitud de pérdida\")\n",
        "plt.plot(historial.history[\"loss\"])"
      ],
      "metadata": {
        "id": "qRzhai-rxQbb",
        "colab": {
          "base_uri": "https://localhost:8080/",
          "height": 467
        },
        "outputId": "744dcce4-607f-49ad-8f98-46e1f06d3232"
      },
      "execution_count": null,
      "outputs": [
        {
          "output_type": "execute_result",
          "data": {
            "text/plain": [
              "[<matplotlib.lines.Line2D at 0x7a1e29711ed0>]"
            ]
          },
          "metadata": {},
          "execution_count": 23
        },
        {
          "output_type": "display_data",
          "data": {
            "text/plain": [
              "<Figure size 640x480 with 1 Axes>"
            ],
            "image/png": "[encoded data removed]"
          },
          "metadata": {}
        }
      ]
    },
    {
      "cell_type": "code",
      "source": [
        "# Resumen de pérdida y precisión\n",
        "print(\"\\nResumen del entrenamiento:\")\n",
        "print(\"Pérdida final:\", historial.history['loss'][-1])\n",
        "print(\"Precisión final:\", historial.history['accuracy'][-1])\n",
        "print(\"\\nResumen de la validación:\")\n",
        "print(\"Pérdida final:\", historial.history['val_loss'][-1])\n",
        "print(\"Precisión final:\", historial.history['val_accuracy'][-1])"
      ],
      "metadata": {
        "colab": {
          "base_uri": "https://localhost:8080/"
        },
        "id": "vcHoXlGoU3nA",
        "outputId": "5339d889-2d69-49fd-cdfb-fde2ba998d72"
      },
      "execution_count": null,
      "outputs": [
        {
          "output_type": "stream",
          "name": "stdout",
          "text": [
            "\n",
            "Resumen del entrenamiento:\n",
            "Pérdida final: 0.00029190475470386446\n",
            "Precisión final: 1.0\n",
            "\n",
            "Resumen de la validación:\n",
            "Pérdida final: 1.9924538135528564\n",
            "Precisión final: 0.7485594749450684\n"
          ]
        }
      ]
    },
    {
      "cell_type": "code",
      "source": [
        "from sklearn.metrics import confusion_matrix, classification_report\n",
        "import seaborn as sns\n",
        "import matplotlib.pyplot as plt\n",
        "import numpy as np\n",
        "\n",
        "# Definir algunos parámetros importantes\n",
        "width_shape = 28  # Ajustado al tamaño de las imágenes de entrada\n",
        "height_shape = 28  # Ajustado al tamaño de las imágenes de entrada\n",
        "num_classes = 6  # Número de clases que has proporcionado\n",
        "epochs = 50\n",
        "batch_size = 32\n",
        "class_names = ['billete', 'knife', 'monedero', 'pistol', 'smartphone', 'tarjeta']\n",
        "\n",
        "# Redimensionar las imágenes para que coincidan con el modelo CNN\n",
        "datos_np_resized = np.array([tf.image.resize(im, (width_shape, height_shape)).numpy() for im in datos_np])\n",
        "\n",
        "# Normalizar los valores de píxeles al rango [0, 1]\n",
        "datos_np_resized = datos_np_resized / 255.0\n",
        "\n",
        "# Hacer predicciones en los datos de validación\n",
        "predicciones = modelo.predict(datos_np_resized)\n",
        "etiquetas_predichas = np.argmax(predicciones, axis=1)\n",
        "\n",
        "# Imprimir informe de clasificación\n",
        "print(\"Informe de clasificación:\")\n",
        "print(classification_report(etiquetas_np, etiquetas_predichas))\n",
        "\n",
        "# Calcular y visualizar la matriz de confusión\n",
        "matriz_confusion = confusion_matrix(etiquetas_np, etiquetas_predichas)\n",
        "sns.heatmap(matriz_confusion, annot=True, fmt='d', cmap='Blues', xticklabels=class_names, yticklabels=class_names)\n",
        "plt.xlabel('Etiquetas Predichas')\n",
        "plt.ylabel('Etiquetas Reales')\n",
        "plt.title('Matriz de Confusión')\n",
        "plt.show()"
      ],
      "metadata": {
        "id": "lqSJ66ivm-tm",
        "colab": {
          "base_uri": "https://localhost:8080/",
          "height": 749
        },
        "outputId": "cf65f275-0732-4109-e591-58978673dfb5"
      },
      "execution_count": null,
      "outputs": [
        {
          "output_type": "stream",
          "name": "stdout",
          "text": [
            "299/299 [==============================] - 2s 7ms/step\n",
            "Informe de clasificación:\n",
            "              precision    recall  f1-score   support\n",
            "\n",
            "           0       0.93      0.93      0.93       777\n",
            "           1       0.96      0.97      0.97      2349\n",
            "           2       0.91      0.91      0.91       813\n",
            "           3       0.96      0.97      0.97      3975\n",
            "           4       0.94      0.90      0.92      1184\n",
            "           5       0.90      0.86      0.88       446\n",
            "\n",
            "    accuracy                           0.95      9544\n",
            "   macro avg       0.93      0.92      0.93      9544\n",
            "weighted avg       0.95      0.95      0.95      9544\n",
            "\n"
          ]
        },
        {
          "output_type": "display_data",
          "data": {
            "text/plain": [
              "<Figure size 640x480 with 2 Axes>"
            ],
            "image/png": "[encoded data removed]"
          },
          "metadata": {}
        }
      ]
    }
  ]
}